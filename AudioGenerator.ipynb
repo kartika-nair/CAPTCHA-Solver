{
  "nbformat": 4,
  "nbformat_minor": 0,
  "metadata": {
    "colab": {
      "name": "AudioGenerator.ipynb",
      "provenance": [],
      "collapsed_sections": [],
      "authorship_tag": "ABX9TyNW3rZLjsDeU4rv7MMLXPVq",
      "include_colab_link": true
    },
    "kernelspec": {
      "name": "python3",
      "display_name": "Python 3"
    },
    "language_info": {
      "name": "python"
    }
  },
  "cells": [
    {
      "cell_type": "markdown",
      "metadata": {
        "id": "view-in-github",
        "colab_type": "text"
      },
      "source": [
        "<a href=\"https://colab.research.google.com/github/kartika-nair/CAPTCHA-Solver/blob/master/AudioGenerator.ipynb\" target=\"_parent\"><img src=\"https://colab.research.google.com/assets/colab-badge.svg\" alt=\"Open In Colab\"/></a>"
      ]
    },
    {
      "cell_type": "code",
      "metadata": {
        "id": "43YJFbuoD1h9",
        "colab": {
          "base_uri": "https://localhost:8080/"
        },
        "outputId": "411df0bb-c1f7-406c-d055-43fc8e1844c8"
      },
      "source": [
        "from google.colab import drive\n",
        "drive.mount('/content/drive')"
      ],
      "execution_count": 1,
      "outputs": [
        {
          "output_type": "stream",
          "text": [
            "Drive already mounted at /content/drive; to attempt to forcibly remount, call drive.mount(\"/content/drive\", force_remount=True).\n"
          ],
          "name": "stdout"
        }
      ]
    },
    {
      "cell_type": "markdown",
      "metadata": {
        "id": "1F64uxFPaiVO"
      },
      "source": [
        "Generation of Dataset"
      ]
    },
    {
      "cell_type": "code",
      "metadata": {
        "colab": {
          "base_uri": "https://localhost:8080/"
        },
        "id": "ig8i11KGak-J",
        "outputId": "f366bccb-53b8-4371-c22d-1037715e7aed"
      },
      "source": [
        "!pip install captcha"
      ],
      "execution_count": 2,
      "outputs": [
        {
          "output_type": "stream",
          "text": [
            "Requirement already satisfied: captcha in /usr/local/lib/python3.7/dist-packages (0.3)\n",
            "Requirement already satisfied: Pillow in /usr/local/lib/python3.7/dist-packages (from captcha) (7.0.0)\n"
          ],
          "name": "stdout"
        }
      ]
    },
    {
      "cell_type": "code",
      "metadata": {
        "id": "WEWRIeB_anXL"
      },
      "source": [
        "import string\n",
        "import random\n",
        "from captcha.audio import AudioCaptcha\n",
        "import tqdm"
      ],
      "execution_count": 3,
      "outputs": []
    },
    {
      "cell_type": "code",
      "metadata": {
        "id": "zPyXnSNMas17"
      },
      "source": [
        "PATH = '/content/drive/MyDrive/Colab Notebooks/Audio'"
      ],
      "execution_count": 4,
      "outputs": []
    },
    {
      "cell_type": "code",
      "metadata": {
        "id": "OYlTQGQ4awJY"
      },
      "source": [
        "audio = AudioCaptcha()"
      ],
      "execution_count": 5,
      "outputs": []
    },
    {
      "cell_type": "code",
      "metadata": {
        "colab": {
          "base_uri": "https://localhost:8080/"
        },
        "id": "7hOEQ3pvbFuV",
        "outputId": "05cbff64-3263-434e-b3c8-e6a635698ec8"
      },
      "source": [
        "for i in tqdm.tqdm(range(0, 10001)):\n",
        "  \n",
        "  number_of_chars = random.randrange(3, 8)\n",
        "\n",
        "  CAPTCHA = ''.join(random.choices(string.digits, k = number_of_chars))\n",
        "  data = audio.generate(CAPTCHA)\n",
        "  audio.write(CAPTCHA,f'{PATH}/{CAPTCHA}.mp3')"
      ],
      "execution_count": 7,
      "outputs": [
        {
          "output_type": "stream",
          "text": [
            "100%|██████████| 10001/10001 [1:47:05<00:00,  1.56it/s]\n"
          ],
          "name": "stderr"
        }
      ]
    },
    {
      "cell_type": "code",
      "metadata": {
        "id": "Zqmj4xmWbkxH"
      },
      "source": [
        ""
      ],
      "execution_count": 6,
      "outputs": []
    }
  ]
}