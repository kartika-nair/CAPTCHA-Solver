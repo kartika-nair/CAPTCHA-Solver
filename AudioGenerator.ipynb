{
  "nbformat": 4,
  "nbformat_minor": 0,
  "metadata": {
    "colab": {
      "name": "AudioGenerator.ipynb",
      "provenance": [],
      "collapsed_sections": [],
      "authorship_tag": "ABX9TyODkCGVkpqYGUSNsxfviINd",
      "include_colab_link": true
    },
    "kernelspec": {
      "name": "python3",
      "display_name": "Python 3"
    },
    "language_info": {
      "name": "python"
    }
  },
  "cells": [
    {
      "cell_type": "markdown",
      "metadata": {
        "id": "view-in-github",
        "colab_type": "text"
      },
      "source": [
        "<a href=\"https://colab.research.google.com/github/kartika-nair/CAPTCHA-Solver/blob/master/AudioGenerator.ipynb\" target=\"_parent\"><img src=\"https://colab.research.google.com/assets/colab-badge.svg\" alt=\"Open In Colab\"/></a>"
      ]
    },
    {
      "cell_type": "code",
      "metadata": {
        "id": "43YJFbuoD1h9",
        "colab": {
          "base_uri": "https://localhost:8080/"
        },
        "outputId": "8246c850-92b8-4a64-c8de-e109add58140"
      },
      "source": [
        "from google.colab import drive\n",
        "drive.mount('/content/drive')"
      ],
      "execution_count": 1,
      "outputs": [
        {
          "output_type": "stream",
          "text": [
            "Drive already mounted at /content/drive; to attempt to forcibly remount, call drive.mount(\"/content/drive\", force_remount=True).\n"
          ],
          "name": "stdout"
        }
      ]
    },
    {
      "cell_type": "markdown",
      "metadata": {
        "id": "1F64uxFPaiVO"
      },
      "source": [
        "Generation of Dataset"
      ]
    },
    {
      "cell_type": "code",
      "metadata": {
        "colab": {
          "base_uri": "https://localhost:8080/"
        },
        "id": "ig8i11KGak-J",
        "outputId": "87e7603a-e64e-4603-c966-386e61181d4e"
      },
      "source": [
        "!pip install captcha"
      ],
      "execution_count": 2,
      "outputs": [
        {
          "output_type": "stream",
          "text": [
            "Requirement already satisfied: captcha in /usr/local/lib/python3.7/dist-packages (0.3)\n",
            "Requirement already satisfied: Pillow in /usr/local/lib/python3.7/dist-packages (from captcha) (7.0.0)\n"
          ],
          "name": "stdout"
        }
      ]
    },
    {
      "cell_type": "code",
      "metadata": {
        "id": "WEWRIeB_anXL"
      },
      "source": [
        "import string\n",
        "import random\n",
        "from captcha.audio import AudioCaptcha\n",
        "import tqdm"
      ],
      "execution_count": 3,
      "outputs": []
    },
    {
      "cell_type": "code",
      "metadata": {
        "id": "zPyXnSNMas17"
      },
      "source": [
        "PATH = '/content/drive/My Drive/Colab Notebooks/Audio'"
      ],
      "execution_count": 7,
      "outputs": []
    },
    {
      "cell_type": "code",
      "metadata": {
        "id": "OYlTQGQ4awJY"
      },
      "source": [
        "audio = AudioCaptcha()"
      ],
      "execution_count": 8,
      "outputs": []
    },
    {
      "cell_type": "code",
      "metadata": {
        "colab": {
          "base_uri": "https://localhost:8080/"
        },
        "id": "7hOEQ3pvbFuV",
        "outputId": "46249c5f-8c56-43d9-bfa1-ebde3b1e95c8"
      },
      "source": [
        "for i in tqdm.tqdm(range(0,10001)):\n",
        "  \n",
        "  number_of_chars = random.randrange(3, 8)\n",
        "\n",
        "  CAPTCHA = ''.join(random.choices(string.digits, k = number_of_chars))\n",
        "  data = audio.generate(CAPTCHA)\n",
        "  audio.write(CAPTCHA,f'{PATH}/{CAPTCHA}.wav')"
      ],
      "execution_count": 9,
      "outputs": [
        {
          "output_type": "stream",
          "text": [
            "100%|██████████| 10001/10001 [1:55:08<00:00,  1.45it/s]\n"
          ],
          "name": "stderr"
        }
      ]
    },
    {
      "cell_type": "code",
      "metadata": {
        "id": "Zqmj4xmWbkxH"
      },
      "source": [
        ""
      ],
      "execution_count": null,
      "outputs": []
    }
  ]
}