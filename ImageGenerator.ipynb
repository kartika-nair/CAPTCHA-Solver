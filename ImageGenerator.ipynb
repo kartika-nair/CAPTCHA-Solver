{
  "nbformat": 4,
  "nbformat_minor": 0,
  "metadata": {
    "colab": {
      "name": "ImageGenerator.ipynb",
      "provenance": [],
      "collapsed_sections": [],
      "include_colab_link": true
    },
    "kernelspec": {
      "display_name": "Python 3",
      "name": "python3"
    },
    "accelerator": "GPU"
  },
  "cells": [
    {
      "cell_type": "markdown",
      "metadata": {
        "id": "view-in-github",
        "colab_type": "text"
      },
      "source": [
        "<a href=\"https://colab.research.google.com/github/kartika-nair/CAPTCHA-Solver/blob/master/ImageGenerator.ipynb\" target=\"_parent\"><img src=\"https://colab.research.google.com/assets/colab-badge.svg\" alt=\"Open In Colab\"/></a>"
      ]
    },
    {
      "cell_type": "code",
      "metadata": {
        "colab": {
          "base_uri": "https://localhost:8080/"
        },
        "id": "tqPPl_8L_qEr",
        "outputId": "836069a1-9319-4d56-bd11-cd1be9d2dfff"
      },
      "source": [
        "from google.colab import drive\r\n",
        "drive.mount('/content/drive')"
      ],
      "execution_count": 1,
      "outputs": [
        {
          "output_type": "stream",
          "text": [
            "Drive already mounted at /content/drive; to attempt to forcibly remount, call drive.mount(\"/content/drive\", force_remount=True).\n"
          ],
          "name": "stdout"
        }
      ]
    },
    {
      "cell_type": "markdown",
      "metadata": {
        "id": "C6BtRPnm9gZ7"
      },
      "source": [
        "Generation of Dataset"
      ]
    },
    {
      "cell_type": "code",
      "metadata": {
        "colab": {
          "base_uri": "https://localhost:8080/"
        },
        "id": "Cbb_kden9jQU",
        "outputId": "47ee938e-7935-44ed-c2e0-6debfe5bdfbb"
      },
      "source": [
        "!pip install captcha"
      ],
      "execution_count": 2,
      "outputs": [
        {
          "output_type": "stream",
          "text": [
            "Requirement already satisfied: captcha in /usr/local/lib/python3.6/dist-packages (0.3)\n",
            "Requirement already satisfied: Pillow in /usr/local/lib/python3.6/dist-packages (from captcha) (7.0.0)\n"
          ],
          "name": "stdout"
        }
      ]
    },
    {
      "cell_type": "code",
      "metadata": {
        "id": "HXOodRWKBtDp"
      },
      "source": [
        "import string\r\n",
        "import random\r\n",
        "from captcha.image import ImageCaptcha\r\n",
        "import tqdm"
      ],
      "execution_count": 3,
      "outputs": []
    },
    {
      "cell_type": "code",
      "metadata": {
        "id": "5QYrvpTgAK0x"
      },
      "source": [
        "PATH = '/content/drive/MyDrive/Colab Notebooks/Images'"
      ],
      "execution_count": 4,
      "outputs": []
    },
    {
      "cell_type": "code",
      "metadata": {
        "id": "m005nuXw-MCP"
      },
      "source": [
        "image = ImageCaptcha()"
      ],
      "execution_count": 5,
      "outputs": []
    },
    {
      "cell_type": "code",
      "metadata": {
        "colab": {
          "base_uri": "https://localhost:8080/"
        },
        "id": "s5zjPCIf-b__",
        "outputId": "e8795c0e-0efb-4445-8511-e768199701c0"
      },
      "source": [
        "for i in tqdm.tqdm(range(0, 10001)):\r\n",
        "  \r\n",
        "  number_of_chars = random.randrange(4, 8)\r\n",
        "\r\n",
        "  CAPTCHA = ''.join(random.choices(string.ascii_letters + string.digits, k = number_of_chars))\r\n",
        "  data = image.generate(CAPTCHA)\r\n",
        "  image.write(CAPTCHA,f'{PATH}/{CAPTCHA}.png')"
      ],
      "execution_count": 7,
      "outputs": [
        {
          "output_type": "stream",
          "text": [
            "100%|██████████| 10001/10001 [03:33<00:00, 46.86it/s]\n"
          ],
          "name": "stderr"
        }
      ]
    },
    {
      "cell_type": "code",
      "metadata": {
        "id": "sOfW-aNrBKuD"
      },
      "source": [
        ""
      ],
      "execution_count": null,
      "outputs": []
    }
  ]
}